{
 "cells": [
  {
   "cell_type": "code",
   "execution_count": 2,
   "id": "naughty-medicaid",
   "metadata": {},
   "outputs": [
    {
     "name": "stdout",
     "output_type": "stream",
     "text": [
      "hello\n"
     ]
    }
   ],
   "source": [
    "print (\"hello\")"
   ]
  },
  {
   "cell_type": "code",
   "execution_count": 1,
   "id": "residential-hungary",
   "metadata": {},
   "outputs": [
    {
     "data": {
      "text/plain": [
       "list"
      ]
     },
     "execution_count": 1,
     "metadata": {},
     "output_type": "execute_result"
    }
   ],
   "source": [
    "lst= [1,2,3,4,5]\n",
    "type(lst)"
   ]
  },
  {
   "cell_type": "code",
   "execution_count": 4,
   "id": "hollow-regular",
   "metadata": {},
   "outputs": [],
   "source": [
    "lst=set(lst)"
   ]
  },
  {
   "cell_type": "code",
   "execution_count": 5,
   "id": "behind-albany",
   "metadata": {},
   "outputs": [
    {
     "data": {
      "text/plain": [
       "True"
      ]
     },
     "execution_count": 5,
     "metadata": {},
     "output_type": "execute_result"
    }
   ],
   "source": [
    "lst.issubset(lst)"
   ]
  },
  {
   "cell_type": "code",
   "execution_count": 15,
   "id": "worldwide-restoration",
   "metadata": {},
   "outputs": [],
   "source": [
    "lst=[\"red\",\"green\",\"white\",\"black\",\"pink\",\"yellow\"]\n"
   ]
  },
  {
   "cell_type": "code",
   "execution_count": 18,
   "id": "waiting-vehicle",
   "metadata": {},
   "outputs": [
    {
     "name": "stdout",
     "output_type": "stream",
     "text": [
      "parrot\n"
     ]
    }
   ],
   "source": [
    "lst=['p','a','r','r','o','t']\n",
    "strr=\"\"\n",
    "for i in lst:\n",
    "    strr+= i\n",
    "print(strr)"
   ]
  },
  {
   "cell_type": "code",
   "execution_count": 21,
   "id": "welsh-annual",
   "metadata": {},
   "outputs": [
    {
     "name": "stdout",
     "output_type": "stream",
     "text": [
      "1212\n",
      "not palindrome\n"
     ]
    }
   ],
   "source": [
    "strr=input()\n",
    "st= strr[::-1]\n",
    "if st==strr:\n",
    "    print(\"palindrome\")\n",
    "else:\n",
    "    print(\"not palindrome\")"
   ]
  },
  {
   "cell_type": "code",
   "execution_count": 25,
   "id": "greek-colors",
   "metadata": {},
   "outputs": [
    {
     "data": {
      "text/plain": [
       "{'ten': ['10', '20', '30'],\n",
       " 'twenty': ['10', '20', '30'],\n",
       " 'thirty': ['10', '20', '30']}"
      ]
     },
     "execution_count": 25,
     "metadata": {},
     "output_type": "execute_result"
    }
   ],
   "source": [
    "keys=['ten','twenty','thirty']\n",
    "values=[\"10\",\"20\",\"30\"]\n",
    "d={}\n",
    "d.fromkeys(keys,values)\n"
   ]
  },
  {
   "cell_type": "code",
   "execution_count": 26,
   "id": "distinguished-webster",
   "metadata": {},
   "outputs": [
    {
     "name": "stdout",
     "output_type": "stream",
     "text": [
      "{'ten': '10', 'twenty': '20', 'thirty': '30'}\n"
     ]
    }
   ],
   "source": [
    "dict={keys[i]:values[i] for i in range(len(keys))}\n",
    "print(dict)\n"
   ]
  },
  {
   "cell_type": "code",
   "execution_count": 29,
   "id": "preliminary-elite",
   "metadata": {},
   "outputs": [
    {
     "name": "stdout",
     "output_type": "stream",
     "text": [
      "{1: 1, 2: 4, 3: 9, 4: 16, 5: 25, 6: 36}\n"
     ]
    }
   ],
   "source": [
    "\n",
    "dict={i:i**2 for i in range(1,7)}\n",
    "print(dict)"
   ]
  },
  {
   "cell_type": "code",
   "execution_count": 37,
   "id": "breeding-brother",
   "metadata": {},
   "outputs": [
    {
     "data": {
      "text/plain": [
       "[55, 45, 41, 35, 24]"
      ]
     },
     "execution_count": 37,
     "metadata": {},
     "output_type": "execute_result"
    }
   ],
   "source": [
    "dict={\"1\":45,\"2\":35,\"3\":41,\"4\":55,\"5\":24}\n",
    "sorted(dict.values(),reverse=True)"
   ]
  },
  {
   "cell_type": "code",
   "execution_count": 38,
   "id": "paperback-principal",
   "metadata": {},
   "outputs": [
    {
     "data": {
      "text/plain": [
       "[('5', 24), ('4', 55), ('3', 41), ('2', 35), ('1', 45)]"
      ]
     },
     "execution_count": 38,
     "metadata": {},
     "output_type": "execute_result"
    }
   ],
   "source": [
    "sorted(dict.items(),reverse=True)"
   ]
  },
  {
   "cell_type": "code",
   "execution_count": 59,
   "id": "stunning-research",
   "metadata": {},
   "outputs": [
    {
     "data": {
      "text/plain": [
       "dict_values([{'a': 7, 'b': 9, 'c': 12}, {'a': 15, 'b': 19, 'c': 20}, {'a': 5, 'b': 10, 'c': 2}])"
      ]
     },
     "execution_count": 59,
     "metadata": {},
     "output_type": "execute_result"
    }
   ],
   "source": [
    "test_dict = {'sup' : {'a' : 7, 'b' : 9, 'c': 12}, 'is' : {'a' : 15, 'b' : 19, 'c' : 20}, 'best' :{'a' : 5,'b' : 10, 'c': 2}}\n",
    "\n",
    "\n",
    "test_dict.values()"
   ]
  },
  {
   "cell_type": "code",
   "execution_count": 51,
   "id": "demanding-intelligence",
   "metadata": {},
   "outputs": [],
   "source": [
    "sup = test_dict['sup']"
   ]
  },
  {
   "cell_type": "code",
   "execution_count": 52,
   "id": "broadband-coaching",
   "metadata": {},
   "outputs": [
    {
     "data": {
      "text/plain": [
       "7"
      ]
     },
     "execution_count": 52,
     "metadata": {},
     "output_type": "execute_result"
    }
   ],
   "source": [
    "sup['a']"
   ]
  },
  {
   "cell_type": "code",
   "execution_count": 54,
   "id": "funded-siemens",
   "metadata": {},
   "outputs": [
    {
     "name": "stdout",
     "output_type": "stream",
     "text": [
      "dict_keys(['sup', 'is', 'best'])\n"
     ]
    }
   ],
   "source": [
    "key = test_dict.keys()\n",
    "print(key)"
   ]
  },
  {
   "cell_type": "code",
   "execution_count": 57,
   "id": "focal-theory",
   "metadata": {},
   "outputs": [
    {
     "ename": "TypeError",
     "evalue": "'dict_keys' object is not subscriptable",
     "output_type": "error",
     "traceback": [
      "\u001b[1;31m---------------------------------------------------------------------------\u001b[0m",
      "\u001b[1;31mTypeError\u001b[0m                                 Traceback (most recent call last)",
      "\u001b[1;32m<ipython-input-57-daca623366ef>\u001b[0m in \u001b[0;36m<module>\u001b[1;34m\u001b[0m\n\u001b[1;32m----> 1\u001b[1;33m \u001b[0mkey\u001b[0m\u001b[1;33m[\u001b[0m\u001b[1;36m1\u001b[0m\u001b[1;33m]\u001b[0m\u001b[1;33m\u001b[0m\u001b[1;33m\u001b[0m\u001b[0m\n\u001b[0m",
      "\u001b[1;31mTypeError\u001b[0m: 'dict_keys' object is not subscriptable"
     ]
    }
   ],
   "source": [
    "key[1]"
   ]
  },
  {
   "cell_type": "code",
   "execution_count": 58,
   "id": "contrary-kinase",
   "metadata": {},
   "outputs": [
    {
     "ename": "KeyError",
     "evalue": "1",
     "output_type": "error",
     "traceback": [
      "\u001b[1;31m---------------------------------------------------------------------------\u001b[0m",
      "\u001b[1;31mKeyError\u001b[0m                                  Traceback (most recent call last)",
      "\u001b[1;32m<ipython-input-58-fd19d7a12143>\u001b[0m in \u001b[0;36m<module>\u001b[1;34m\u001b[0m\n\u001b[1;32m----> 1\u001b[1;33m \u001b[0mtest_dict\u001b[0m\u001b[1;33m[\u001b[0m\u001b[1;36m1\u001b[0m\u001b[1;33m]\u001b[0m\u001b[1;33m\u001b[0m\u001b[1;33m\u001b[0m\u001b[0m\n\u001b[0m",
      "\u001b[1;31mKeyError\u001b[0m: 1"
     ]
    }
   ],
   "source": [
    "test_dict[1]"
   ]
  },
  {
   "cell_type": "code",
   "execution_count": 60,
   "id": "early-earthquake",
   "metadata": {},
   "outputs": [
    {
     "name": "stdout",
     "output_type": "stream",
     "text": [
      "[7, 15, 5]\n"
     ]
    }
   ],
   "source": [
    "temp= \"a\"\n",
    "d= [sub[temp] for sub in test_dict.values() if temp in sub.keys()]\n",
    "print(d)\n"
   ]
  },
  {
   "cell_type": "code",
   "execution_count": 138,
   "id": "hybrid-shell",
   "metadata": {},
   "outputs": [
    {
     "name": "stdout",
     "output_type": "stream",
     "text": [
      "['asf', 'dgjfg', 'adsfgh', 'dgg', 'wefghj']\n",
      "6\n",
      "6\n",
      "6\n",
      "6\n",
      "6\n",
      "6\n"
     ]
    }
   ],
   "source": [
    "strr=\"asf dgjfg adsfgh dgg wefghj\"\n",
    "st=strr.split()\n",
    "print(st)\n",
    "length=len(max(st, key=len))\n",
    "print(length)\n",
    "for i in range(0,len(st)):\n",
    "    st[i]=st[i].ljust(length)\n",
    "    print(len(st[i]))"
   ]
  },
  {
   "cell_type": "code",
   "execution_count": 139,
   "id": "fuzzy-lease",
   "metadata": {},
   "outputs": [
    {
     "name": "stdout",
     "output_type": "stream",
     "text": [
      "adadw\n",
      "sgdge\n",
      "fjsgf\n",
      " ff g\n",
      " gg h\n",
      "  h j\n"
     ]
    }
   ],
   "source": [
    "#for i in range(0,len(st)):\n",
    "for j in range(0,length):\n",
    "    for k in range(0,len(st)):\n",
    "        print(st[k][j],end=\"\")\n",
    "    print()"
   ]
  },
  {
   "cell_type": "code",
   "execution_count": 7,
   "id": "maritime-daughter",
   "metadata": {},
   "outputs": [
    {
     "name": "stdout",
     "output_type": "stream",
     "text": [
      "[[20 39 33]\n",
      " [25 25 28]]\n",
      "[[ 400 1521 1089]\n",
      " [ 625  625  784]]\n"
     ]
    }
   ],
   "source": [
    "import numpy as np \n",
    "\n",
    "arrayOne = np.array([[5, 6, 9], [21 ,18, 27]])\n",
    "arrayTwo = np.array([[15 ,33, 24], [4 ,7, 1]])\n",
    "\n",
    "arrays=np.add(arrayOne,arrayTwo)\n",
    "print(arrays)\n",
    "m= np.square(arrays)\n",
    "print(m)"
   ]
  },
  {
   "cell_type": "code",
   "execution_count": 8,
   "id": "center-ideal",
   "metadata": {},
   "outputs": [
    {
     "name": "stdout",
     "output_type": "stream",
     "text": [
      "[[34 43]\n",
      " [82 22]\n",
      " [53 94]]\n"
     ]
    }
   ],
   "source": [
    "sampleArray = np.array([[34,43,73],[82,22,12],[53,94,66]])\n",
    "x=np.delete(sampleArray,2,axis=1)\n",
    "print(x)"
   ]
  },
  {
   "cell_type": "code",
   "execution_count": 9,
   "id": "fabulous-vaccine",
   "metadata": {},
   "outputs": [],
   "source": [
    "def fun(target):\n",
    "    target_arr=[]\n",
    "    for i in range(len(arr)):\n",
    "        for j in range(i+1,len(arr)):\n",
    "            temp=arr[i]+arr[j]\n",
    "            if temp==target:\n",
    "                target_arr.append(arr[i])\n",
    "                target_arr.append(arr[j])\n",
    "                #print(arr[i])\n",
    "    return target_arr\n",
    "\n"
   ]
  },
  {
   "cell_type": "code",
   "execution_count": 15,
   "id": "resident-wisdom",
   "metadata": {
    "scrolled": true
   },
   "outputs": [
    {
     "name": "stdout",
     "output_type": "stream",
     "text": [
      "How many elements are in list : 5\n",
      "enter elements:1\n",
      "enter elements:2\n",
      "enter elements:3\n",
      "enter elements:4\n",
      "enter elements:5\n",
      "[1, 2, 3, 4, 5]\n",
      "enter target sum5\n",
      "1 4\n"
     ]
    }
   ],
   "source": [
    "integer_arr=[int(input(\"enter elements:\")) for i in range(int(input(\"How many elements are in list : \")))] \n",
    "print(integer_arr)\n",
    "target_sum= int(input(\"enter target sum\"))\n",
    "\n",
    "for i in integer_arr:\n",
    "    diff = target_sum -i \n",
    "    if diff in integer_arr and diff!=i:\n",
    "        print(i,diff)\n",
    "        break"
   ]
  },
  {
   "cell_type": "code",
   "execution_count": 23,
   "id": "honey-termination",
   "metadata": {
    "scrolled": true
   },
   "outputs": [
    {
     "name": "stdout",
     "output_type": "stream",
     "text": [
      "0    a\n",
      "1    b\n",
      "2    c\n",
      "3    d\n",
      "4    e\n",
      "5    f\n",
      "6    g\n",
      "dtype: object\n"
     ]
    }
   ],
   "source": [
    "import pandas as pd \n",
    "\n",
    "a_list = list(\"abcdefg\")\n",
    "numpy_array = np.arange(1, 10)\n",
    "dictionary = {\"A\":  0, \"B\":1, \"C\":2, \"D\":3, \"E\":5}\n",
    "\n",
    "series_list= pd.Series(a_list)\n",
    "print(series_list)"
   ]
  },
  {
   "cell_type": "code",
   "execution_count": 34,
   "id": "contained-shoot",
   "metadata": {
    "scrolled": true
   },
   "outputs": [
    {
     "data": {
      "text/html": [
       "<div>\n",
       "<style scoped>\n",
       "    .dataframe tbody tr th:only-of-type {\n",
       "        vertical-align: middle;\n",
       "    }\n",
       "\n",
       "    .dataframe tbody tr th {\n",
       "        vertical-align: top;\n",
       "    }\n",
       "\n",
       "    .dataframe thead th {\n",
       "        text-align: right;\n",
       "    }\n",
       "</style>\n",
       "<table border=\"1\" class=\"dataframe\">\n",
       "  <thead>\n",
       "    <tr style=\"text-align: right;\">\n",
       "      <th></th>\n",
       "      <th>col1</th>\n",
       "      <th>col2</th>\n",
       "    </tr>\n",
       "  </thead>\n",
       "  <tbody>\n",
       "    <tr>\n",
       "      <th>0</th>\n",
       "      <td>a</td>\n",
       "      <td>0</td>\n",
       "    </tr>\n",
       "    <tr>\n",
       "      <th>1</th>\n",
       "      <td>b</td>\n",
       "      <td>1</td>\n",
       "    </tr>\n",
       "    <tr>\n",
       "      <th>2</th>\n",
       "      <td>c</td>\n",
       "      <td>2</td>\n",
       "    </tr>\n",
       "    <tr>\n",
       "      <th>3</th>\n",
       "      <td>e</td>\n",
       "      <td>3</td>\n",
       "    </tr>\n",
       "    <tr>\n",
       "      <th>4</th>\n",
       "      <td>d</td>\n",
       "      <td>4</td>\n",
       "    </tr>\n",
       "    <tr>\n",
       "      <th>5</th>\n",
       "      <td>f</td>\n",
       "      <td>5</td>\n",
       "    </tr>\n",
       "    <tr>\n",
       "      <th>6</th>\n",
       "      <td>g</td>\n",
       "      <td>6</td>\n",
       "    </tr>\n",
       "    <tr>\n",
       "      <th>7</th>\n",
       "      <td>h</td>\n",
       "      <td>7</td>\n",
       "    </tr>\n",
       "    <tr>\n",
       "      <th>8</th>\n",
       "      <td>i</td>\n",
       "      <td>8</td>\n",
       "    </tr>\n",
       "    <tr>\n",
       "      <th>9</th>\n",
       "      <td>j</td>\n",
       "      <td>9</td>\n",
       "    </tr>\n",
       "    <tr>\n",
       "      <th>10</th>\n",
       "      <td>k</td>\n",
       "      <td>10</td>\n",
       "    </tr>\n",
       "    <tr>\n",
       "      <th>11</th>\n",
       "      <td>l</td>\n",
       "      <td>11</td>\n",
       "    </tr>\n",
       "    <tr>\n",
       "      <th>12</th>\n",
       "      <td>m</td>\n",
       "      <td>12</td>\n",
       "    </tr>\n",
       "    <tr>\n",
       "      <th>13</th>\n",
       "      <td>n</td>\n",
       "      <td>13</td>\n",
       "    </tr>\n",
       "    <tr>\n",
       "      <th>14</th>\n",
       "      <td>o</td>\n",
       "      <td>14</td>\n",
       "    </tr>\n",
       "    <tr>\n",
       "      <th>15</th>\n",
       "      <td>p</td>\n",
       "      <td>15</td>\n",
       "    </tr>\n",
       "    <tr>\n",
       "      <th>16</th>\n",
       "      <td>q</td>\n",
       "      <td>16</td>\n",
       "    </tr>\n",
       "    <tr>\n",
       "      <th>17</th>\n",
       "      <td>r</td>\n",
       "      <td>17</td>\n",
       "    </tr>\n",
       "    <tr>\n",
       "      <th>18</th>\n",
       "      <td>s</td>\n",
       "      <td>18</td>\n",
       "    </tr>\n",
       "    <tr>\n",
       "      <th>19</th>\n",
       "      <td>t</td>\n",
       "      <td>19</td>\n",
       "    </tr>\n",
       "    <tr>\n",
       "      <th>20</th>\n",
       "      <td>u</td>\n",
       "      <td>20</td>\n",
       "    </tr>\n",
       "    <tr>\n",
       "      <th>21</th>\n",
       "      <td>v</td>\n",
       "      <td>21</td>\n",
       "    </tr>\n",
       "    <tr>\n",
       "      <th>22</th>\n",
       "      <td>w</td>\n",
       "      <td>22</td>\n",
       "    </tr>\n",
       "    <tr>\n",
       "      <th>23</th>\n",
       "      <td>x</td>\n",
       "      <td>23</td>\n",
       "    </tr>\n",
       "    <tr>\n",
       "      <th>24</th>\n",
       "      <td>y</td>\n",
       "      <td>24</td>\n",
       "    </tr>\n",
       "    <tr>\n",
       "      <th>25</th>\n",
       "      <td>z</td>\n",
       "      <td>25</td>\n",
       "    </tr>\n",
       "  </tbody>\n",
       "</table>\n",
       "</div>"
      ],
      "text/plain": [
       "   col1  col2\n",
       "0     a     0\n",
       "1     b     1\n",
       "2     c     2\n",
       "3     e     3\n",
       "4     d     4\n",
       "5     f     5\n",
       "6     g     6\n",
       "7     h     7\n",
       "8     i     8\n",
       "9     j     9\n",
       "10    k    10\n",
       "11    l    11\n",
       "12    m    12\n",
       "13    n    13\n",
       "14    o    14\n",
       "15    p    15\n",
       "16    q    16\n",
       "17    r    17\n",
       "18    s    18\n",
       "19    t    19\n",
       "20    u    20\n",
       "21    v    21\n",
       "22    w    22\n",
       "23    x    23\n",
       "24    y    24\n",
       "25    z    25"
      ]
     },
     "execution_count": 34,
     "metadata": {},
     "output_type": "execute_result"
    }
   ],
   "source": [
    "ser1 = pd.Series(list('abcedfghijklmnopqrstuvwxyz'))\n",
    "\n",
    "ser2 = pd.Series(np.arange(26))\n",
    "\n",
    "ser=ser1.append(ser2,ignore_index = True)\n",
    "serdf=pd.DataFrame({\"col1\":ser1,\"col2\":ser2})\n",
    "ser\n",
    "serdf"
   ]
  },
  {
   "cell_type": "code",
   "execution_count": 37,
   "id": "monthly-crazy",
   "metadata": {},
   "outputs": [],
   "source": [
    "class vehicle:\n",
    "    def __init__(self,max_speed,name,mileage):\n",
    "        self.max_speed=max_speed\n",
    "        self.name=name\n",
    "        self.mileage=mileage\n",
    "    def seating_capacity(self,capacity):\n",
    "        self.capacity=capacity\n",
    "        \n",
    "class bus(vehicle):\n",
    "    def seating_capacity(self,capacity=50):\n",
    "        self.capacity=capacity"
   ]
  },
  {
   "cell_type": "code",
   "execution_count": null,
   "id": "functioning-columbia",
   "metadata": {},
   "outputs": [],
   "source": []
  }
 ],
 "metadata": {
  "kernelspec": {
   "display_name": "Python 3",
   "language": "python",
   "name": "python3"
  },
  "language_info": {
   "codemirror_mode": {
    "name": "ipython",
    "version": 3
   },
   "file_extension": ".py",
   "mimetype": "text/x-python",
   "name": "python",
   "nbconvert_exporter": "python",
   "pygments_lexer": "ipython3",
   "version": "3.7.4"
  }
 },
 "nbformat": 4,
 "nbformat_minor": 5
}
