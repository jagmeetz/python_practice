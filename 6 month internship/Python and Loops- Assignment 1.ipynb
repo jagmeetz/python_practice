{
 "cells": [
  {
   "cell_type": "markdown",
   "id": "fabulous-possession",
   "metadata": {},
   "source": [
    "# Q1"
   ]
  },
  {
   "cell_type": "code",
   "execution_count": 26,
   "id": "computational-banking",
   "metadata": {},
   "outputs": [
    {
     "name": "stdout",
     "output_type": "stream",
     "text": [
      "       Customer_Age Gender Income_Category\n",
      "1                49      F  Less than $40K\n",
      "3                40      F  Less than $40K\n",
      "14               57      F  Less than $40K\n",
      "19               45      F         Unknown\n",
      "21               62      F  Less than $40K\n",
      "...             ...    ...             ...\n",
      "10106            58      F  Less than $40K\n",
      "10119            55      F         Unknown\n",
      "10121            56      F  Less than $40K\n",
      "10124            44      F  Less than $40K\n",
      "10126            43      F  Less than $40K\n",
      "\n",
      "[5232 rows x 3 columns]\n",
      "   Age Gender Income_Category\n",
      "0   45      M     $60K - $80K\n",
      "1   49      F  Less than $40K\n",
      "2   51      M    $80K - $120K\n",
      "3   40      F  Less than $40K\n",
      "4   40      M     $60K - $80K\n",
      "Marital_Status  Income_Category\n",
      "Divorced        $120K +              52\n",
      "                $40K - $60K         138\n",
      "                $60K - $80K         108\n",
      "                $80K - $120K        103\n",
      "                Less than $40K      254\n",
      "                Unknown              93\n",
      "Married         $120K +             354\n",
      "                $40K - $60K         816\n",
      "                $60K - $80K         661\n",
      "                $80K - $120K        735\n",
      "                Less than $40K     1628\n",
      "                Unknown             493\n",
      "Single          $120K +             274\n",
      "                $40K - $60K         704\n",
      "                $60K - $80K         531\n",
      "                $80K - $120K        561\n",
      "                Less than $40K     1429\n",
      "                Unknown             444\n",
      "Unknown         $120K +              47\n",
      "                $40K - $60K         132\n",
      "                $60K - $80K         102\n",
      "                $80K - $120K        136\n",
      "                Less than $40K      250\n",
      "                Unknown              82\n",
      "Name: Income_Category, dtype: int64\n",
      "       CLIENTNUM  Attrition_Flag  Customer_Age  Gender  Dependent_count  \\\n",
      "0          False           False         False   False            False   \n",
      "1          False           False         False   False            False   \n",
      "2          False           False         False   False            False   \n",
      "3          False           False         False   False            False   \n",
      "4          False           False         False   False            False   \n",
      "...          ...             ...           ...     ...              ...   \n",
      "10122      False           False         False   False            False   \n",
      "10123      False           False         False   False            False   \n",
      "10124      False           False         False   False            False   \n",
      "10125      False           False         False   False            False   \n",
      "10126      False           False         False   False            False   \n",
      "\n",
      "       Education_Level  Marital_Status  Income_Category  Card_Category  \\\n",
      "0                False           False            False          False   \n",
      "1                False           False            False          False   \n",
      "2                False           False            False          False   \n",
      "3                False           False            False          False   \n",
      "4                False           False            False          False   \n",
      "...                ...             ...              ...            ...   \n",
      "10122            False           False            False          False   \n",
      "10123            False           False            False          False   \n",
      "10124            False           False            False          False   \n",
      "10125            False           False            False          False   \n",
      "10126            False           False            False          False   \n",
      "\n",
      "       Months_on_book  ...  Credit_Limit  Total_Revolving_Bal  \\\n",
      "0               False  ...         False                False   \n",
      "1               False  ...         False                False   \n",
      "2               False  ...         False                False   \n",
      "3               False  ...         False                False   \n",
      "4               False  ...         False                False   \n",
      "...               ...  ...           ...                  ...   \n",
      "10122           False  ...         False                False   \n",
      "10123           False  ...         False                False   \n",
      "10124           False  ...         False                False   \n",
      "10125           False  ...         False                False   \n",
      "10126           False  ...         False                False   \n",
      "\n",
      "       Avg_Open_To_Buy  Total_Amt_Chng_Q4_Q1  Total_Trans_Amt  Total_Trans_Ct  \\\n",
      "0                False                 False            False           False   \n",
      "1                False                 False            False           False   \n",
      "2                False                 False            False           False   \n",
      "3                False                 False            False           False   \n",
      "4                False                 False            False           False   \n",
      "...                ...                   ...              ...             ...   \n",
      "10122            False                 False            False           False   \n",
      "10123            False                 False            False           False   \n",
      "10124            False                 False            False           False   \n",
      "10125            False                 False            False           False   \n",
      "10126            False                 False            False           False   \n",
      "\n",
      "       Total_Ct_Chng_Q4_Q1  Avg_Utilization_Ratio  \\\n",
      "0                    False                  False   \n",
      "1                    False                  False   \n",
      "2                    False                  False   \n",
      "3                    False                  False   \n",
      "4                    False                  False   \n",
      "...                    ...                    ...   \n",
      "10122                False                  False   \n",
      "10123                False                  False   \n",
      "10124                False                  False   \n",
      "10125                False                  False   \n",
      "10126                False                  False   \n",
      "\n",
      "       Naive_Bayes_Classifier_Attrition_Flag_Card_Category_Contacts_Count_12_mon_Dependent_count_Education_Level_Months_Inactive_12_mon_1  \\\n",
      "0                                                  False                                                                                    \n",
      "1                                                  False                                                                                    \n",
      "2                                                  False                                                                                    \n",
      "3                                                  False                                                                                    \n",
      "4                                                  False                                                                                    \n",
      "...                                                  ...                                                                                    \n",
      "10122                                              False                                                                                    \n",
      "10123                                              False                                                                                    \n",
      "10124                                              False                                                                                    \n",
      "10125                                              False                                                                                    \n",
      "10126                                              False                                                                                    \n",
      "\n",
      "       Naive_Bayes_Classifier_Attrition_Flag_Card_Category_Contacts_Count_12_mon_Dependent_count_Education_Level_Months_Inactive_12_mon_2  \n",
      "0                                                  False                                                                                   \n",
      "1                                                  False                                                                                   \n",
      "2                                                  False                                                                                   \n",
      "3                                                  False                                                                                   \n",
      "4                                                  False                                                                                   \n",
      "...                                                  ...                                                                                   \n",
      "10122                                              False                                                                                   \n",
      "10123                                              False                                                                                   \n",
      "10124                                              False                                                                                   \n",
      "10125                                              False                                                                                   \n",
      "10126                                              False                                                                                   \n",
      "\n",
      "[10127 rows x 23 columns]\n"
     ]
    },
    {
     "data": {
      "image/png": "[encoded data removed]",
      "text/plain": [
       "<Figure size 432x288 with 1 Axes>"
      ]
     },
     "metadata": {
      "needs_background": "light"
     },
     "output_type": "display_data"
    }
   ],
   "source": [
    "import pandas as pd\n",
    "import matplotlib.pyplot as plot\n",
    "\n",
    "data = pd.read_csv('BankChurners.csv')\n",
    "\n",
    "limited_data = pd.read_csv('BankChurners.csv',\n",
    "                           usecols=['Customer_Age', 'Gender', 'Income_Category'])\n",
    "\n",
    "print(limited_data[(limited_data[\"Customer_Age\"] > 30) & (limited_data[\"Gender\"] == 'F')])\n",
    "\n",
    "limited_data.rename(columns={'Customer_Age': 'Age'}, inplace=True)\n",
    "print(limited_data.head())\n",
    "\n",
    "print(data.groupby(['Marital_Status', 'Income_Category'])['Income_Category'].count())\n",
    "\n",
    "print(data.isnull())\n",
    "\n",
    "data[['Customer_Age', 'Dependent_count']].plot(kind='bar')\n",
    "plot.show()"
   ]
  },
  {
   "cell_type": "markdown",
   "id": "limiting-update",
   "metadata": {},
   "source": [
    "# Q2"
   ]
  },
  {
   "cell_type": "code",
   "execution_count": 24,
   "id": "specialized-tractor",
   "metadata": {},
   "outputs": [
    {
     "name": "stdout",
     "output_type": "stream",
     "text": [
      "How many elements are in list : 5\n",
      "enter elements:1\n",
      "enter elements:23\n",
      "enter elements:3\n",
      "enter elements:2\n",
      "enter elements:5\n",
      "enter target sum:6\n",
      "[[1, 2, 3]]\n"
     ]
    }
   ],
   "source": [
    "def triplets(arr, total):\n",
    "    result = []\n",
    "    arr.sort()\n",
    "    size = len(arr)\n",
    "    for i in range(0, size - 2):\n",
    "        for j in range(i + 1, size - 1):\n",
    "            for k in range(j + 1, size):\n",
    "                fir = arr[i]\n",
    "                sec = arr[j]\n",
    "                thr = arr[k]\n",
    "                if fir + sec + thr == total:\n",
    "                    result.append([fir, sec, thr])\n",
    "    return result\n",
    "\n",
    "arr=[int(input(\"enter elements:\")) for i in range(int(input(\"How many elements are in list : \")))] \n",
    "target_sum = int(input(\"enter target sum:\"))\n",
    "ans=triplets(arr,target_sum)\n",
    "print (ans)"
   ]
  },
  {
   "cell_type": "markdown",
   "id": "eleven-resort",
   "metadata": {},
   "source": [
    "# Q3"
   ]
  },
  {
   "cell_type": "code",
   "execution_count": 34,
   "id": "characteristic-liverpool",
   "metadata": {},
   "outputs": [
    {
     "name": "stdout",
     "output_type": "stream",
     "text": [
      "How many elements are in list : 5\n",
      "enter elements:4\n",
      "enter elements:46\n",
      "enter elements:246\n",
      "enter elements:65\n",
      "enter elements:34\n",
      "How many elements are in list : 5\n",
      "enter elements:65\n",
      "enter elements:35\n",
      "enter elements:67\n",
      "enter elements:23\n",
      "enter elements:43\n",
      "[65, 65]\n"
     ]
    }
   ],
   "source": [
    "def diff(arr1, arr2):\n",
    "    result = []\n",
    "    least_diff = abs(arr1[0] - arr2[0])\n",
    "    for n1 in arr1:\n",
    "        for n2 in arr2:\n",
    "            sub = abs(n1 - n2)\n",
    "            if sub < least_diff:\n",
    "                least_diff = sub\n",
    "                result = [n1, n2]\n",
    "    return result\n",
    "arr1=[int(input(\"enter elements:\")) for i in range(int(input(\"How many elements are in list : \")))] \n",
    "arr2=[int(input(\"enter elements:\")) for i in range(int(input(\"How many elements are in list : \")))] \n",
    "ans = diff(arr1,arr2) \n",
    "print (ans)"
   ]
  },
  {
   "cell_type": "markdown",
   "id": "hidden-praise",
   "metadata": {},
   "source": [
    "##### "
   ]
  },
  {
   "cell_type": "code",
   "execution_count": null,
   "id": "private-bundle",
   "metadata": {},
   "outputs": [],
   "source": []
  }
 ],
 "metadata": {
  "kernelspec": {
   "display_name": "Python 3",
   "language": "python",
   "name": "python3"
  },
  "language_info": {
   "codemirror_mode": {
    "name": "ipython",
    "version": 3
   },
   "file_extension": ".py",
   "mimetype": "text/x-python",
   "name": "python",
   "nbconvert_exporter": "python",
   "pygments_lexer": "ipython3",
   "version": "3.7.4"
  }
 },
 "nbformat": 4,
 "nbformat_minor": 5
}
