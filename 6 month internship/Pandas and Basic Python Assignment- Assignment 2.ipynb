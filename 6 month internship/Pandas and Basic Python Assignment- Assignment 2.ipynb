{
 "cells": [
  {
   "cell_type": "markdown",
   "id": "seasonal-calculator",
   "metadata": {},
   "source": [
    "# Q1\n"
   ]
  },
  {
   "cell_type": "code",
   "execution_count": 106,
   "id": "administrative-nowhere",
   "metadata": {},
   "outputs": [],
   "source": [
    "import pandas as pd\n",
    "\n",
    "#1. Read the csv file.\n",
    "data = pd.read_csv('baseball_reference_2016_clean.csv')\n",
    "\n",
    "#. Change the data types of column:\n",
    "#. Column: date → datetime\n",
    "#. Column: wind_speed → float32\n",
    "data['date']=pd.to_datetime(data['date'])\n",
    "data['wind_speed']= data['wind_speed'].astype('float32')\n",
    "\n",
    "#. Which match had the highest attendance in 2016?\n",
    "data[data['attendance']==data['attendance'].max()]\n",
    "\n",
    "#. Which was the hottest match of the year?\n",
    "data[data['temperature']==data['temperature'].max()]\n",
    "\n",
    "#. Which was the coldest match of the year?\n",
    "data[data['temperature']==data['temperature'].min()]\n",
    "\n",
    "#. Which was the longest match of the year?\n",
    "data[data['game_hours_dec']==data['game_hours_dec'].max()]\n",
    "\n",
    "#. How many matches ended in a tie?\n",
    "data['home_team_outcome'].unique()\n",
    "\n",
    "#. When was the last match played of the season?\n",
    "data['date'].max()\n",
    "\n",
    "#. Which game had the most errors?\n",
    "data[(data['home_team_errors']+ data['away_team_errors'])==(data['home_team_errors']+ data['away_team_errors']).max()]\n",
    "\n",
    "#.Check the null values\n",
    "data.isnull().sum() \n",
    "\n",
    "#.Treat the null values. if any by substituting them with mean\n",
    "data=data.fillna(data['attendance'].mean())\n",
    "\n",
    "#.How to delete a column from a dataset (don’t use drop function)?\n",
    "del data['attendance']   #using del "
   ]
  },
  {
   "cell_type": "markdown",
   "id": "stunning-georgia",
   "metadata": {},
   "source": [
    "# Q2\n"
   ]
  },
  {
   "cell_type": "code",
   "execution_count": 104,
   "id": "minimal-tuner",
   "metadata": {},
   "outputs": [],
   "source": [
    "d={\"serial no\":[1,2,3,4,5,6],\n",
    "\n",
    "\"name\":[\"sam\",\"dennis\",\"deni\",\"ramu\",\"viru\",\"kripal\"],\n",
    "\"date_of_first_login\":['22/06/2000','05/08/2001',\n",
    "'06/05/2005','31/01/2007',\n",
    "'02/03/2010','17/01/2011'],\n",
    "\"last_login_date\":['05/07/2019','04/04/2018','03/05/2017','18/06/2020','23/10/2016','10/10/2019']}\n",
    "\n",
    "d= pd.DataFrame(d)\n",
    "d['date_of_first_login']=pd.to_datetime(d['date_of_first_login'])\n",
    "d['last_login_date']=pd.to_datetime(d['last_login_date'])\n",
    "\n",
    "#1.For how many days each student was active\n",
    "diff=(d['last_login_date']-d['date_of_first_login']).dt.days\n",
    "\n",
    "#2.Find those student who had not logged in for more than 4000 days\n",
    "d[((d['last_login_date']-d['date_of_first_login']).dt.days) <= 4000]\n",
    "\n",
    "#3.Add the column Not Active which contains Yes or No.\n",
    "d['Not Active']= ['Yes' if (diff[x] <= 4000) else 'No' for x in range(0,len(d['serial no']))]"
   ]
  },
  {
   "cell_type": "markdown",
   "id": "located-conference",
   "metadata": {},
   "source": [
    "# Q3"
   ]
  },
  {
   "cell_type": "code",
   "execution_count": 105,
   "id": "changed-melissa",
   "metadata": {},
   "outputs": [],
   "source": [
    "def positive_out(arr):\n",
    "    result=[]\n",
    "    for i in range(0, len(arr)):\n",
    "        if arr[i]>0:\n",
    "            result.append(arr[i])\n",
    "    return result\n",
    "\n",
    "seq = [0, -1, 1, 2, 3, 5, 8, 13 , -9 , 10 , -2 , 67 , -3 , 56 ]\n",
    "result = positive_out(seq)"
   ]
  },
  {
   "cell_type": "markdown",
   "id": "married-surge",
   "metadata": {},
   "source": [
    "# Q4"
   ]
  },
  {
   "cell_type": "code",
   "execution_count": 116,
   "id": "intermediate-sapphire",
   "metadata": {},
   "outputs": [
    {
     "name": "stdout",
     "output_type": "stream",
     "text": [
      "Randomlist = [55, 24, 99, 61, 62, 6, 17, 77, 62, 33]\n",
      "Oddlist = [55, 99, 61, 17, 77, 33]\n",
      "Evenlist = [24, 62, 6, 62]\n"
     ]
    }
   ],
   "source": [
    "import random\n",
    "\n",
    "def sorter(arr):\n",
    "    odd=[]\n",
    "    even=[]\n",
    "    for i in range(0,len(arr)):\n",
    "        if arr[i]%2==0:\n",
    "            even.append(arr[i])\n",
    "        else:\n",
    "            odd.append(arr[i])\n",
    "    return odd,even\n",
    "\n",
    "\n",
    "randomlist = []\n",
    "for i in range(0,10):\n",
    "    n = random.randint(1,100)\n",
    "    randomlist.append(n)\n",
    "print(\"Randomlist =\", randomlist)\n",
    "Oddlist, Evenlist= sorter(randomlist) \n",
    "print(\"Oddlist =\", Oddlist)\n",
    "print(\"Evenlist =\", Evenlist)"
   ]
  },
  {
   "cell_type": "markdown",
   "id": "behind-force",
   "metadata": {},
   "source": [
    "# Q5"
   ]
  },
  {
   "cell_type": "code",
   "execution_count": 135,
   "id": "broken-austria",
   "metadata": {},
   "outputs": [
    {
     "name": "stdout",
     "output_type": "stream",
     "text": [
      "Enter an alphabet: 3\n",
      "It is not an Alphabet\n"
     ]
    }
   ],
   "source": [
    "inp= input (\"Enter an alphabet: \")\n",
    "\n",
    "if((inp>='a' and inp<= 'z') or (inp>='A' and inp<='Z')):\n",
    "    print( \"It is an Alphabet\")\n",
    "    if (inp== 'a' or inp=='e' or inp=='i'or inp=='o' or inp=='u' or inp=='A' or inp=='E' or inp=='I' or inp=='O' or inp=='U'):\n",
    "        print(\"It is a vowel\")\n",
    "    else:\n",
    "        print('It is a consonant')\n",
    "else:\n",
    "    print(\"It is not an Alphabet\")"
   ]
  },
  {
   "cell_type": "markdown",
   "id": "gorgeous-recruitment",
   "metadata": {},
   "source": [
    "# Q6"
   ]
  },
  {
   "cell_type": "code",
   "execution_count": 140,
   "id": "processed-permission",
   "metadata": {},
   "outputs": [
    {
     "name": "stdout",
     "output_type": "stream",
     "text": [
      "Enter total electricity units : 500\n"
     ]
    },
    {
     "data": {
      "text/plain": [
       "714.0"
      ]
     },
     "execution_count": 140,
     "metadata": {},
     "output_type": "execute_result"
    }
   ],
   "source": [
    "def bill_calc(units):\n",
    "    if units<=50 :\n",
    "        bill = units* 0.50\n",
    "    elif units<=150 :\n",
    "        bill = 50 *0.50 + (units-50)*0.75\n",
    "    elif units<= 250:\n",
    "        bill = 50*0.50 + 100*0.75 + (units-150)*1.20\n",
    "    else:\n",
    "        bill = 50*0.50 + 100*0.75 + 100* 1.20+ (units-250)*1.50\n",
    "    \n",
    "    total_bill = bill+ bill*0.20\n",
    "    return total_bill\n",
    "\n",
    "units= int(input(\"Enter total electricity units : \"))\n",
    "total_bill = bill_calc(units)\n",
    "total_bill"
   ]
  },
  {
   "cell_type": "markdown",
   "id": "rocky-mills",
   "metadata": {},
   "source": [
    "# Q7"
   ]
  },
  {
   "cell_type": "code",
   "execution_count": 157,
   "id": "disturbed-hybrid",
   "metadata": {},
   "outputs": [
    {
     "name": "stdout",
     "output_type": "stream",
     "text": [
      " Input the string: AABCAAADAAABCAAADA\n",
      " Input the integer: 3\n",
      "['AB', 'CA', 'AD', 'AB', 'CA', 'AD']\n"
     ]
    }
   ],
   "source": [
    "s = input (\" Input the string: \")\n",
    "k = int( input (\" Input the integer: \"))\n",
    "n= int(len(s)/k)\n",
    "\n",
    "ti=[s[i:i+k] for i in range(0, len(s), k)]\n",
    "ui=['']*n\n",
    "\n",
    "for i in range(0, len (ti)):\n",
    "    for j in range (0, k):\n",
    "        if ti[i][j] not in ui[i]:\n",
    "            ui[i]= ui[i]+ti[i][j]\n",
    "print(ui)"
   ]
  },
  {
   "cell_type": "code",
   "execution_count": null,
   "id": "greek-hawaiian",
   "metadata": {},
   "outputs": [],
   "source": []
  }
 ],
 "metadata": {
  "kernelspec": {
   "display_name": "Python 3",
   "language": "python",
   "name": "python3"
  },
  "language_info": {
   "codemirror_mode": {
    "name": "ipython",
    "version": 3
   },
   "file_extension": ".py",
   "mimetype": "text/x-python",
   "name": "python",
   "nbconvert_exporter": "python",
   "pygments_lexer": "ipython3",
   "version": "3.7.4"
  }
 },
 "nbformat": 4,
 "nbformat_minor": 5
}
